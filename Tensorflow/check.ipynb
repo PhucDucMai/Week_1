{
 "cells": [
  {
   "cell_type": "code",
   "execution_count": 3,
   "metadata": {},
   "outputs": [],
   "source": [
    "import tensorflow as tf\n",
    "from tensorflow.compat.v1 import placeholder , Session , train"
   ]
  },
  {
   "cell_type": "code",
   "execution_count": 2,
   "metadata": {},
   "outputs": [
    {
     "name": "stdout",
     "output_type": "stream",
     "text": [
      "2.11.0\n"
     ]
    }
   ],
   "source": [
    "print(tf.__version__)"
   ]
  },
  {
   "cell_type": "code",
   "execution_count": 4,
   "metadata": {},
   "outputs": [
    {
     "ename": "RuntimeError",
     "evalue": "tf.placeholder() is not compatible with eager execution.",
     "output_type": "error",
     "traceback": [
      "\u001b[1;31m---------------------------------------------------------------------------\u001b[0m",
      "\u001b[1;31mRuntimeError\u001b[0m                              Traceback (most recent call last)",
      "Cell \u001b[1;32mIn[4], line 1\u001b[0m\n\u001b[1;32m----> 1\u001b[0m x \u001b[39m=\u001b[39m placeholder(dtype\u001b[39m=\u001b[39;49mtf\u001b[39m.\u001b[39;49mfloat32 , name\u001b[39m=\u001b[39;49m\u001b[39m\"\u001b[39;49m\u001b[39mx\u001b[39;49m\u001b[39m\"\u001b[39;49m)\n\u001b[0;32m      2\u001b[0m y \u001b[39m=\u001b[39m placeholder(dtype\u001b[39m=\u001b[39mtf\u001b[39m.\u001b[39mfloat32 , name\u001b[39m=\u001b[39m\u001b[39m\"\u001b[39m\u001b[39my\u001b[39m\u001b[39m\"\u001b[39m)\n\u001b[0;32m      4\u001b[0m sess \u001b[39m=\u001b[39m Session()\n",
      "File \u001b[1;32mc:\\Users\\maidu\\AppData\\Local\\Programs\\Python\\Python39\\lib\\site-packages\\tensorflow\\python\\ops\\array_ops.py:3340\u001b[0m, in \u001b[0;36mplaceholder\u001b[1;34m(dtype, shape, name)\u001b[0m\n\u001b[0;32m   3293\u001b[0m \u001b[39m\u001b[39m\u001b[39m\"\"\"Inserts a placeholder for a tensor that will be always fed.\u001b[39;00m\n\u001b[0;32m   3294\u001b[0m \n\u001b[0;32m   3295\u001b[0m \u001b[39m**Important**: This tensor will produce an error if evaluated. Its value must\u001b[39;00m\n\u001b[1;32m   (...)\u001b[0m\n\u001b[0;32m   3337\u001b[0m \u001b[39m@end_compatibility\u001b[39;00m\n\u001b[0;32m   3338\u001b[0m \u001b[39m\"\"\"\u001b[39;00m\n\u001b[0;32m   3339\u001b[0m \u001b[39mif\u001b[39;00m context\u001b[39m.\u001b[39mexecuting_eagerly():\n\u001b[1;32m-> 3340\u001b[0m   \u001b[39mraise\u001b[39;00m \u001b[39mRuntimeError\u001b[39;00m(\u001b[39m\"\u001b[39m\u001b[39mtf.placeholder() is not compatible with \u001b[39m\u001b[39m\"\u001b[39m\n\u001b[0;32m   3341\u001b[0m                      \u001b[39m\"\u001b[39m\u001b[39meager execution.\u001b[39m\u001b[39m\"\u001b[39m)\n\u001b[0;32m   3343\u001b[0m \u001b[39mreturn\u001b[39;00m gen_array_ops\u001b[39m.\u001b[39mplaceholder(dtype\u001b[39m=\u001b[39mdtype, shape\u001b[39m=\u001b[39mshape, name\u001b[39m=\u001b[39mname)\n",
      "\u001b[1;31mRuntimeError\u001b[0m: tf.placeholder() is not compatible with eager execution."
     ]
    }
   ],
   "source": [
    "x = placeholder(dtype=tf.float32 , name=\"x\")\n",
    "y = placeholder(dtype=tf.float32 , name=\"y\")\n",
    "\n",
    "sess = Session()\n",
    "dict_temp = {x:10,\n",
    "             y:20}\n",
    "mul_ = x * y\n",
    "print(\"X * Y = \" , sess.run(mul_ , feed_dict=dict_temp))"
   ]
  },
  {
   "cell_type": "code",
   "execution_count": null,
   "metadata": {},
   "outputs": [],
   "source": []
  }
 ],
 "metadata": {
  "kernelspec": {
   "display_name": "Python 3",
   "language": "python",
   "name": "python3"
  },
  "language_info": {
   "codemirror_mode": {
    "name": "ipython",
    "version": 3
   },
   "file_extension": ".py",
   "mimetype": "text/x-python",
   "name": "python",
   "nbconvert_exporter": "python",
   "pygments_lexer": "ipython3",
   "version": "3.9.7"
  },
  "orig_nbformat": 4,
  "vscode": {
   "interpreter": {
    "hash": "225274aa39bd03693d76aa415102c6a5c5c03f533813f35a709147f616b8863a"
   }
  }
 },
 "nbformat": 4,
 "nbformat_minor": 2
}
