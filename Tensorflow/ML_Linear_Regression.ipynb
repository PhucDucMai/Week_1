{
 "cells": [
  {
   "cell_type": "code",
   "execution_count": 27,
   "metadata": {},
   "outputs": [],
   "source": [
    "import tensorflow as tf \n",
    "import pandas as pd \n",
    "import numpy as np \n",
    "import warnings\n",
    "warnings.filterwarnings('ignore')"
   ]
  },
  {
   "cell_type": "code",
   "execution_count": 28,
   "metadata": {},
   "outputs": [],
   "source": [
    "tf.compat.v1.disable_eager_execution()\n",
    "tf.compat.v1.disable_v2_behavior()"
   ]
  },
  {
   "attachments": {},
   "cell_type": "markdown",
   "metadata": {},
   "source": [
    "# X = [1,2,3,4] <=> [x0,x1,x2,x3]\n",
    "# Y = [2] <=> w_init + w_0*x_0 + w_1*x_1 + ... + w_3*x3\n",
    "=> Việc của thuật toán này là đi tìm w0 , w1 , ... , w3"
   ]
  },
  {
   "cell_type": "code",
   "execution_count": 2,
   "metadata": {},
   "outputs": [],
   "source": [
    "# tạo x_data với 10000 cột và 2 chiều\n",
    "x_data = np.random.random((10000,2))\n",
    "# fake sample_weight    \n",
    "sample_weight  = np.array([3,4]).reshape(2,)\n",
    "# fake y_data\n",
    "y_data = np.matmul(x_data,sample_weight)"
   ]
  },
  {
   "cell_type": "code",
   "execution_count": 3,
   "metadata": {},
   "outputs": [
    {
     "data": {
      "text/plain": [
       "array([[0.84671089, 0.658203  ],\n",
       "       [0.62202993, 0.86292363],\n",
       "       [0.91277846, 0.70478171],\n",
       "       ...,\n",
       "       [0.8180233 , 0.56432968],\n",
       "       [0.40724188, 0.00526496],\n",
       "       [0.46195828, 0.75404966]])"
      ]
     },
     "execution_count": 3,
     "metadata": {},
     "output_type": "execute_result"
    }
   ],
   "source": [
    "x_data"
   ]
  },
  {
   "attachments": {},
   "cell_type": "markdown",
   "metadata": {},
   "source": [
    "# Xấp xỉ hóa Y để cho dữ liệu mang tính ngẫu nhiên"
   ]
  },
  {
   "cell_type": "code",
   "execution_count": 4,
   "metadata": {},
   "outputs": [],
   "source": [
    "y_data = np.add(y_data,np.random.uniform(-0.5,0.5))"
   ]
  },
  {
   "cell_type": "code",
   "execution_count": 5,
   "metadata": {},
   "outputs": [
    {
     "data": {
      "text/plain": [
       "5.158565365695133"
      ]
     },
     "execution_count": 5,
     "metadata": {},
     "output_type": "execute_result"
    }
   ],
   "source": [
    "y_data[0]"
   ]
  },
  {
   "cell_type": "code",
   "execution_count": 6,
   "metadata": {},
   "outputs": [
    {
     "data": {
      "text/plain": [
       "(10000,)"
      ]
     },
     "execution_count": 6,
     "metadata": {},
     "output_type": "execute_result"
    }
   ],
   "source": [
    "y_data.shape"
   ]
  },
  {
   "cell_type": "code",
   "execution_count": 7,
   "metadata": {},
   "outputs": [
    {
     "data": {
      "text/plain": [
       "(10000, 2)"
      ]
     },
     "execution_count": 7,
     "metadata": {},
     "output_type": "execute_result"
    }
   ],
   "source": [
    "x_data.shape"
   ]
  },
  {
   "cell_type": "code",
   "execution_count": 8,
   "metadata": {},
   "outputs": [],
   "source": [
    "y_data = y_data.reshape(10000,1)"
   ]
  },
  {
   "cell_type": "code",
   "execution_count": 9,
   "metadata": {},
   "outputs": [
    {
     "data": {
      "text/plain": [
       "(10000, 1)"
      ]
     },
     "execution_count": 9,
     "metadata": {},
     "output_type": "execute_result"
    }
   ],
   "source": [
    "y_data.shape"
   ]
  },
  {
   "cell_type": "code",
   "execution_count": 10,
   "metadata": {},
   "outputs": [
    {
     "data": {
      "text/plain": [
       "array([[0.84671089, 0.658203  ],\n",
       "       [0.62202993, 0.86292363],\n",
       "       [0.91277846, 0.70478171],\n",
       "       ...,\n",
       "       [0.8180233 , 0.56432968],\n",
       "       [0.40724188, 0.00526496],\n",
       "       [0.46195828, 0.75404966]])"
      ]
     },
     "execution_count": 10,
     "metadata": {},
     "output_type": "execute_result"
    }
   ],
   "source": [
    "x_data"
   ]
  },
  {
   "cell_type": "code",
   "execution_count": 11,
   "metadata": {},
   "outputs": [
    {
     "data": {
      "text/plain": [
       "array([[5.15856537],\n",
       "       [5.30340503],\n",
       "       [5.54308294],\n",
       "       ...,\n",
       "       [4.69700933],\n",
       "       [1.22840618],\n",
       "       [4.38769418]])"
      ]
     },
     "execution_count": 11,
     "metadata": {},
     "output_type": "execute_result"
    }
   ],
   "source": [
    "y_data"
   ]
  },
  {
   "cell_type": "code",
   "execution_count": 12,
   "metadata": {},
   "outputs": [],
   "source": [
    "from sklearn.model_selection import train_test_split"
   ]
  },
  {
   "cell_type": "code",
   "execution_count": 13,
   "metadata": {},
   "outputs": [],
   "source": [
    "x_train , x_test , y_train , y_test = train_test_split(x_data , y_data , train_size=0.8 , test_size=0.2 , random_state=42)"
   ]
  },
  {
   "cell_type": "code",
   "execution_count": 14,
   "metadata": {},
   "outputs": [
    {
     "data": {
      "text/plain": [
       "(8000, 2)"
      ]
     },
     "execution_count": 14,
     "metadata": {},
     "output_type": "execute_result"
    }
   ],
   "source": [
    "x_train.shape"
   ]
  },
  {
   "cell_type": "code",
   "execution_count": 15,
   "metadata": {},
   "outputs": [
    {
     "data": {
      "text/plain": [
       "(8000, 1)"
      ]
     },
     "execution_count": 15,
     "metadata": {},
     "output_type": "execute_result"
    }
   ],
   "source": [
    "y_train.shape"
   ]
  },
  {
   "attachments": {},
   "cell_type": "markdown",
   "metadata": {},
   "source": [
    "# Tìm giá trị làm cho Min square Error"
   ]
  },
  {
   "cell_type": "code",
   "execution_count": 16,
   "metadata": {},
   "outputs": [
    {
     "name": "stdout",
     "output_type": "stream",
     "text": [
      "2.11.0\n"
     ]
    }
   ],
   "source": [
    "print(tf.__version__)"
   ]
  },
  {
   "cell_type": "code",
   "execution_count": 19,
   "metadata": {},
   "outputs": [
    {
     "name": "stdout",
     "output_type": "stream",
     "text": [
      "2\n"
     ]
    }
   ],
   "source": [
    "n_dim = x_train.shape[1]\n",
    "print(n_dim)"
   ]
  },
  {
   "cell_type": "code",
   "execution_count": 22,
   "metadata": {},
   "outputs": [],
   "source": [
    "# Placeholder for pass data\n",
    "x = tf.compat.v1.placeholder(tf.float32,[None , n_dim])\n",
    "\n",
    "y = tf.compat.v1.placeholder(tf.float32 ,[None , 1])"
   ]
  },
  {
   "cell_type": "code",
   "execution_count": 23,
   "metadata": {},
   "outputs": [],
   "source": [
    "# Training weights\n",
    "w = tf.Variable(tf.ones([n_dim,1]))\n",
    "b = tf.Variable(np.random.randn() , dtype=tf.float32)"
   ]
  },
  {
   "cell_type": "code",
   "execution_count": 24,
   "metadata": {},
   "outputs": [],
   "source": [
    "pred = tf.add(tf.matmul(x,w),b)"
   ]
  },
  {
   "cell_type": "code",
   "execution_count": 33,
   "metadata": {},
   "outputs": [],
   "source": [
    "loss = tf.reduce_mean(tf.square(pred-y))\n",
    "learning_rate = 0.001\n",
    "optimizer = tf.compat.v1.train.GradientDescentOptimizer(learning_rate=learning_rate).minimize(loss)"
   ]
  },
  {
   "cell_type": "code",
   "execution_count": 34,
   "metadata": {},
   "outputs": [],
   "source": [
    "init = tf.compat.v1.global_variables_initializer()"
   ]
  },
  {
   "cell_type": "code",
   "execution_count": 35,
   "metadata": {},
   "outputs": [],
   "source": [
    "sess = tf.compat.v1.Session()"
   ]
  },
  {
   "attachments": {},
   "cell_type": "markdown",
   "metadata": {},
   "source": [
    "# Training"
   ]
  },
  {
   "cell_type": "code",
   "execution_count": 56,
   "metadata": {},
   "outputs": [
    {
     "name": "stdout",
     "output_type": "stream",
     "text": [
      "Epochs: 0 , Test loss: 2.075953722000122\n",
      "Epochs: 2000 , Test loss: 0.5317798256874084\n",
      "Epochs: 4000 , Test loss: 0.34366583824157715\n",
      "Epochs: 6000 , Test loss: 0.22245290875434875\n",
      "Epochs: 8000 , Test loss: 0.14413708448410034\n",
      "Epochs: 10000 , Test loss: 0.09346763789653778\n",
      "Epochs: 12000 , Test loss: 0.0606488436460495\n",
      "Epochs: 14000 , Test loss: 0.03937334939837456\n",
      "Epochs: 16000 , Test loss: 0.02557164803147316\n",
      "Epochs: 18000 , Test loss: 0.016613202169537544\n",
      "Epochs: 20000 , Test loss: 0.010795964859426022\n",
      "Epochs: 22000 , Test loss: 0.00701708672568202\n",
      "Epochs: 24000 , Test loss: 0.004561716224998236\n",
      "Epochs: 26000 , Test loss: 0.0029659392312169075\n",
      "Epochs: 28000 , Test loss: 0.0019286135211586952\n",
      "Epochs: 30000 , Test loss: 0.0012542569311335683\n",
      "Epochs: 32000 , Test loss: 0.0008156934636645019\n",
      "Epochs: 34000 , Test loss: 0.0005306581151671708\n",
      "Epochs: 36000 , Test loss: 0.0003451546945143491\n",
      "Epochs: 38000 , Test loss: 0.00022458549938164651\n",
      "Training finished\n"
     ]
    }
   ],
   "source": [
    "sess.run(init)\n",
    "epochs = 40000 # hệ số training\n",
    "lst_loss = [] # Dùng để thêm vào các loss xem nó giảm ra sao \n",
    "for epochs in range(epochs):\n",
    "    sess.run(optimizer,feed_dict={x:x_train , y:y_train})\n",
    "    test_loss = sess.run(loss , feed_dict={x:x_test , y:y_test}) # xem thuật toán chạy có ok hay không\n",
    "    lst_loss.append(test_loss)\n",
    "    if epochs % 2000 == 0:\n",
    "        print(\"Epochs: {0} , Test loss: {1}\".format(epochs,test_loss))\n",
    "print(\"Training finished\")\n",
    "#print(lst_loss)"
   ]
  },
  {
   "cell_type": "code",
   "execution_count": 57,
   "metadata": {},
   "outputs": [
    {
     "data": {
      "text/plain": [
       "array([[2.9725945],\n",
       "       [3.9691358]], dtype=float32)"
      ]
     },
     "execution_count": 57,
     "metadata": {},
     "output_type": "execute_result"
    }
   ],
   "source": [
    "sess.run(w)"
   ]
  },
  {
   "cell_type": "code",
   "execution_count": 43,
   "metadata": {},
   "outputs": [
    {
     "data": {
      "text/plain": [
       "1.9693333"
      ]
     },
     "execution_count": 43,
     "metadata": {},
     "output_type": "execute_result"
    }
   ],
   "source": [
    "sess.run(b)"
   ]
  },
  {
   "cell_type": "code",
   "execution_count": 44,
   "metadata": {},
   "outputs": [],
   "source": [
    "import matplotlib.pyplot as plt "
   ]
  },
  {
   "cell_type": "code",
   "execution_count": 58,
   "metadata": {},
   "outputs": [
    {
     "data": {
      "image/png": "[encoded data removed]",
      "text/plain": [
       "<Figure size 640x480 with 1 Axes>"
      ]
     },
     "metadata": {},
     "output_type": "display_data"
    }
   ],
   "source": [
    "plt.plot(range(len(lst_loss)) , lst_loss)\n",
    "plt.axis([0 , epochs , 0 , np.max([lst_loss])])\n",
    "plt.show()"
   ]
  },
  {
   "cell_type": "code",
   "execution_count": 59,
   "metadata": {},
   "outputs": [],
   "source": [
    "pred_y = sess.run(pred , feed_dict={\n",
    "    x : [[3,10]]\n",
    "})  "
   ]
  },
  {
   "cell_type": "code",
   "execution_count": 60,
   "metadata": {},
   "outputs": [
    {
     "name": "stdout",
     "output_type": "stream",
     "text": [
      "[[48.625374]]\n"
     ]
    }
   ],
   "source": [
    "print(pred_y)"
   ]
  },
  {
   "cell_type": "code",
   "execution_count": null,
   "metadata": {},
   "outputs": [],
   "source": []
  }
 ],
 "metadata": {
  "kernelspec": {
   "display_name": "Python 3",
   "language": "python",
   "name": "python3"
  },
  "language_info": {
   "codemirror_mode": {
    "name": "ipython",
    "version": 3
   },
   "file_extension": ".py",
   "mimetype": "text/x-python",
   "name": "python",
   "nbconvert_exporter": "python",
   "pygments_lexer": "ipython3",
   "version": "3.9.7"
  },
  "orig_nbformat": 4,
  "vscode": {
   "interpreter": {
    "hash": "225274aa39bd03693d76aa415102c6a5c5c03f533813f35a709147f616b8863a"
   }
  }
 },
 "nbformat": 4,
 "nbformat_minor": 2
}
